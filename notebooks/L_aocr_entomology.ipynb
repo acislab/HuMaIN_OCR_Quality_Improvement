{
 "cells": [
  {
   "cell_type": "markdown",
   "metadata": {},
   "source": [
    "# Generation of the lines for the A-OCR Entomology collection"
   ]
  },
  {
   "cell_type": "code",
   "execution_count": 22,
   "metadata": {},
   "outputs": [],
   "source": [
    "dir_images = \"/home/ialzuru/Spring2019/H-MaTE/biocolls/aocr_entomology/images\"\n",
    "dir_output = \"/home/ialzuru/Spring2019/H-MaTE/biocolls/aocr_entomology/lines_creation_gcp\""
   ]
  },
  {
   "cell_type": "markdown",
   "metadata": {},
   "source": [
    "## 1. Removal of the bar codes and rulers\n",
    "Bar codes and rulers insert many segmentation errors. This process eliminates most of them, creating new \"clean\" images.<br>\n",
    "This is a multicore process which minimizes the quality lost in the images."
   ]
  },
  {
   "cell_type": "markdown",
   "metadata": {},
   "source": [
    "<font color=blue>time python3 ../ALOT/**delBarRuler_mt.py** -i /home/ialzuru/Spring2019/H-MaTE/biocolls/aocr_entomology/images -o /home/ialzuru/Spring2019/H-MaTE/biocolls/aocr_entomology/lines_processing/cleaned_images</font><br>\n",
    "real\t0m13.156s<br>\n",
    "<br>\n",
    "NOTE: The algorithm did not generate the expected results (some areas of the rulers are still present). Therefore, I decided to proceed with the original images."
   ]
  },
  {
   "cell_type": "markdown",
   "metadata": {},
   "source": [
    "## 2. Size adjustment of the images to comply with the Google Cloud 10 MB's maximum"
   ]
  },
  {
   "cell_type": "markdown",
   "metadata": {},
   "source": [
    "<font color=blue>python3 ../ALOT/**resizeDir_mt.py** -i dir_images -o dir_output + \"/\" + resized_images</font>\n",
    "<br>\n",
    "This step was not neccesary for A-OCR Entomology, where the biggest image occupies 1.2 MB."
   ]
  },
  {
   "cell_type": "markdown",
   "metadata": {},
   "source": [
    "## 3. Segmentation of the images in lines, using the Google Cloud OCR.\n",
    "The Google Cloud OCR does not work with lines, like OCRopus or Tesseract. But, taking the coordinates of the symbols' bounding boxes, I was able to generate the lines from the information provided by the GCP OCR<br>\n",
    "This step must be executed from a Google Cloud project and is not free. It has a cost per processed image.<br><br>\n",
    "Google credentials need to be enabled:<br>\n",
    "<font color=blue>source /home/ialzuru/Terms/Fall2018/Google/env/bin/activate<br>\n",
    "export GOOGLE_APPLICATION_CREDENTIALS=\"/home/ialzuru/Terms/Fall2018/Google/hardy-album-221622-fb268d75b31e.json\"</font>"
   ]
  },
  {
   "cell_type": "markdown",
   "metadata": {},
   "source": [
    "The command to extract all the lines of the collection is the following:<br>\n",
    "<font color=blue>\n",
    "time for i in ~/Spring2019/H-MaTE/biocolls/aocr_entomology/images/&ast;.jpg; do<br>\n",
    "&nbsp;&nbsp;&nbsp;&nbsp;&nbsp;b=\\`basename \\\\$i .jpg\\`;<br>\n",
    "&nbsp;&nbsp;&nbsp;&nbsp;&nbsp;python3 ~/Spring2019/ALOT/**get_lines_google.py** -if \\\\$i -od ~/Spring2019/H-MaTE/biocolls/aocr_entomology/lines_creation_gcp/\\\\$b -of ~/Spring2019/H-MaTE/biocolls/aocr_entomology/lines_creation_gcp/lines.txt;<br>\n",
    "done\n",
    "</font>\n",
    "<br><br>\n",
    "real\t1m49.930s"
   ]
  },
  {
   "cell_type": "markdown",
   "metadata": {},
   "source": [
    "## 4. Arrangement of the lines and directories.\n",
    "Creation of the directories and copy of the files in separated folders.<br>\n",
    "<font color=blue>\n",
    "    mkdir ~/Spring2019/H-MaTE/biocolls/aocr_entomology/ocropus<br>\n",
    "    mkdir ~/Spring2019/H-MaTE/biocolls/aocr_entomology/ocropus/fulltext_ocred<br>\n",
    "    mkdir ~/Spring2019/H-MaTE/biocolls/aocr_entomology/ocropus/lines_bin<br>\n",
    "    mkdir ~/Spring2019/H-MaTE/biocolls/aocr_entomology/ocropus/lines_txt<br>\n",
    "    mkdir ~/Spring2019/H-MaTE/biocolls/aocr_entomology/ocropus/lines_prob<br>\n",
    "    mkdir ~/Spring2019/H-MaTE/biocolls/aocr_entomology/ocropus/lines_ocropus_binarization<br>\n",
    "    mkdir ~/Spring2019/H-MaTE/biocolls/aocr_entomology/tesseract<br>\n",
    "    mkdir ~/Spring2019/H-MaTE/biocolls/aocr_entomology/tesseract/fulltext_ocred<br>\n",
    "    mkdir ~/Spring2019/H-MaTE/biocolls/aocr_entomology/tesseract/lines_txt<br>\n",
    "    mkdir ~/Spring2019/H-MaTE/biocolls/aocr_entomology/tesseract/lines_prob<br>\n",
    "    mkdir ~/Spring2019/H-MaTE/biocolls/aocr_entomology/google<br>\n",
    "    mkdir ~/Spring2019/H-MaTE/biocolls/aocr_entomology/google/fulltext_ocred<br>\n",
    "    mkdir ~/Spring2019/H-MaTE/biocolls/aocr_entomology/google/lines_img<br>\n",
    "    mkdir ~/Spring2019/H-MaTE/biocolls/aocr_entomology/google/lines_txt<br>\n",
    "    mkdir ~/Spring2019/H-MaTE/biocolls/aocr_entomology/google/lines_prob<br>\n",
    "    <br>\n",
    "    for i in ~/Spring2019/H-MaTE/biocolls/aocr_entomology/lines_processing/google/&ast;; do<br>\n",
    "    &nbsp;&nbsp;&nbsp;&nbsp;&nbsp; cp \\\\$i/&ast;.jpg ~/Spring2019/H-MaTE/biocolls/aocr_entomology/google/lines_img/<br>\n",
    "    &nbsp;&nbsp;&nbsp;&nbsp;&nbsp; cp \\\\$i/&ast;.txt ~/Spring2019/H-MaTE/biocolls/aocr_entomology/google/lines_txt/<br>\n",
    "    &nbsp;&nbsp;&nbsp;&nbsp;&nbsp; cp \\\\$i/&ast;.prob ~/Spring2019/H-MaTE/biocolls/aocr_entomology/google/lines_prob/<br>\n",
    "    done<br>\n",
    "    <br>\n",
    "    cd ~/Spring2019/H-MaTE/biocolls/aocr_entomology/google/lines_txt<br>\n",
    "    find . ! -iregex \".&ast;_[0-9][0-9][0-9]\\\\.txt\" -exec mv {} ~/Spring2019/H-MaTE/biocolls/aocr_entomology/google/fulltext_ocred/ \\\\;\n",
    "</font>"
   ]
  },
  {
   "cell_type": "code",
   "execution_count": 23,
   "metadata": {},
   "outputs": [
    {
     "name": "stdout",
     "output_type": "stream",
     "text": [
      "Lines in the collection: 1132\n"
     ]
    }
   ],
   "source": [
    "n_lines = !ls ~/Spring2019/H-MaTE/biocolls/aocr_entomology/google/lines_img | wc -l\n",
    "n_lines = int(n_lines[0])\n",
    "print(\"Lines in the collection: \" + str(n_lines))"
   ]
  },
  {
   "cell_type": "markdown",
   "metadata": {},
   "source": [
    "## 5. Binarization of the lines using OCRopus\n",
    "OCRopus recognizer works better with binary images."
   ]
  },
  {
   "cell_type": "markdown",
   "metadata": {},
   "source": [
    "<font color=blue>time python2 ~/Spring2019/ALOT/**binarizeDir_mt.py** -if ~/Spring2019/H-MaTE/biocolls/aocr_entomology/google/lines_img -of ~/Spring2019/H-MaTE/biocolls/aocr_entomology/ocropus/lines_ocropus_binarization</font><br>\n",
    "real\t1m46.406s"
   ]
  },
  {
   "cell_type": "markdown",
   "metadata": {},
   "source": [
    "The binarized files are moved to the <font color=blue>lines_bin</font> directory and renamed with their correspondent image name.<br>\n",
    "<font color=blue>\n",
    "time for i in ~/Spring2019/H-MaTE/biocolls/aocr_entomology/ocropus/lines_ocropus_binarization/&ast;; do<br>\n",
    "&nbsp;&nbsp;&nbsp;&nbsp;&nbsp;b=\\`basename \\\\$i\\`;<br>\n",
    "&nbsp;&nbsp;&nbsp;&nbsp;&nbsp;cp \\\\$i/0001.bin.png ~/Spring2019/H-MaTE/biocolls/aocr_entomology/ocropus/lines_bin/\\\\$b.bin.png;<br>\n",
    "done<br>\n",
    "</font>\n",
    "real\t0m4.933s"
   ]
  },
  {
   "cell_type": "markdown",
   "metadata": {},
   "source": [
    "## 6. OCRopus Recognition: Generation of the text and probability files\n",
    "Execution of OCRopus on the binarized lines."
   ]
  },
  {
   "cell_type": "markdown",
   "metadata": {},
   "source": [
    "<font color=blue>time python2 ~/Spring2019/ALOT/**recognizeDir_mt.py** -if ~/Spring2019/H-MaTE/biocolls/aocr_entomology/ocropus/lines_bin -mf ~/ocropus/ocropy/models -mn en-default.pyrnn.gz -p True</font>\n",
    "<br>\n",
    "real\t12m36.581s  (6 cores utilized)<br>\n",
    "<br>\n",
    "The text and probability files are moved from the default location: <font color=blue>lines_bin</font>, to independent folders: <font color=blue>lines_txt</font> and <font color=blue>lines_prob</font>.<br>\n",
    "<br>\n",
    "<font color=blue>\n",
    "    mv ~/Spring2019/H-MaTE/biocolls/aocr_entomology/ocropus/lines_bin/&ast;.txt ~/Spring2019/H-MaTE/biocolls/aocr_entomology/ocropus/lines_txt/<br>\n",
    "    mv ~/Spring2019/H-MaTE/biocolls/aocr_entomology/ocropus/lines_bin/&ast;.prob ~/Spring2019/H-MaTE/biocolls/aocr_entomology/ocropus/lines_prob/\n",
    "</font>"
   ]
  },
  {
   "cell_type": "code",
   "execution_count": 24,
   "metadata": {},
   "outputs": [
    {
     "name": "stdout",
     "output_type": "stream",
     "text": [
      "OCR-ed number of lines with OCRopus: 1132\n"
     ]
    }
   ],
   "source": [
    "n_lines_ocropus = !ls ~/Spring2019/H-MaTE/biocolls/aocr_entomology/ocropus/lines_txt | wc -l\n",
    "n_lines_ocropus = int(n_lines_ocropus[0])\n",
    "print(\"OCR-ed number of lines with OCRopus: \" + str(n_lines_ocropus))"
   ]
  },
  {
   "cell_type": "markdown",
   "metadata": {},
   "source": [
    "## 7. Tesseract Recognition: Generation of the text and probability files\n",
    "Execution of Tesseract on the colored lines generated through the GCP OCR."
   ]
  },
  {
   "cell_type": "markdown",
   "metadata": {},
   "source": [
    "<font color=blue>time python ~/Spring2019/ALOT/**tessDir_mt.py** -id /home/ialzuru/Spring2019/H-MaTE/biocolls/aocr_entomology/google/lines_img -td ~/Spring2019/H-MaTE/biocolls/aocr_entomology/tesseract/lines_txt -cd ~/Spring2019/H-MaTE/biocolls/aocr_entomology/tesseract/lines_prob</font><br>\n",
    "real\t48m4.321s"
   ]
  },
  {
   "cell_type": "code",
   "execution_count": 25,
   "metadata": {},
   "outputs": [
    {
     "name": "stdout",
     "output_type": "stream",
     "text": [
      "OCR-ed number of lines with OCRopus: 949\n"
     ]
    }
   ],
   "source": [
    "n_lines_tesseract = !ls ~/Spring2019/H-MaTE/biocolls/aocr_entomology/tesseract/lines_txt | wc -l\n",
    "n_lines_tesseract = int(n_lines_tesseract[0])\n",
    "print(\"OCR-ed number of lines with OCRopus: \" + str(n_lines_tesseract))"
   ]
  },
  {
   "cell_type": "code",
   "execution_count": null,
   "metadata": {},
   "outputs": [],
   "source": []
  }
 ],
 "metadata": {
  "kernelspec": {
   "display_name": "Python 3",
   "language": "python",
   "name": "python3"
  },
  "language_info": {
   "codemirror_mode": {
    "name": "ipython",
    "version": 3
   },
   "file_extension": ".py",
   "mimetype": "text/x-python",
   "name": "python",
   "nbconvert_exporter": "python",
   "pygments_lexer": "ipython3",
   "version": "3.7.2"
  }
 },
 "nbformat": 4,
 "nbformat_minor": 2
}
