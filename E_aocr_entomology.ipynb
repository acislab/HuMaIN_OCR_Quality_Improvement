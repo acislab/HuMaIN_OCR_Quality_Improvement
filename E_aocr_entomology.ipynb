{
 "cells": [
  {
   "cell_type": "markdown",
   "metadata": {},
   "source": [
    "# Text Extraction of the A-OCR Entomology"
   ]
  },
  {
   "cell_type": "markdown",
   "metadata": {},
   "source": [
    "#### A-OCR Entomology collection: 100 images, 1132 lines.\n",
    "OCRopus, Tesseract, and the Google Cloud Platform OCR (G-OCR) were run on these lines<br>\n",
    "<br>\n",
    "The previously OCR-ed lines are in:<br>\n",
    "<font color=blue>\n",
    "~/Spring2019/H-MaTE/biocolls/aocr_entomology/ocropus/lines_txt<br>\n",
    "~/Spring2019/H-MaTE/biocolls/aocr_entomology/tesseract/lines_txt<br>\n",
    "~/Spring2019/H-MaTE/biocolls/aocr_entomology/google/lines_txt<br>\n",
    "</font><br>\n",
    "\n",
    "## 1. Accept lines (Majority voting)\n",
    "These lines will be considered to be correctly extracted.\n",
    "### Criterium:\n",
    "- The 3 OCRs generated the same value.\n",
    "- 2 OCRs generated the same value and have a high average confidence (Avg.Prob. > 0.9)\n",
    "\n",
    "The file **accepted.tsv** is created."
   ]
  },
  {
   "cell_type": "code",
   "execution_count": 88,
   "metadata": {},
   "outputs": [],
   "source": [
    "RESULTS_DIR = \"~/Spring2019/H-MaTE/biocolls/aocr_entomology/H-MaTE/\"\n",
    "N_LINES = float(1132)"
   ]
  },
  {
   "cell_type": "code",
   "execution_count": 90,
   "metadata": {},
   "outputs": [
    {
     "name": "stdout",
     "output_type": "stream",
     "text": [
      "CPU times: user 120 ms, sys: 16 ms, total: 136 ms\n",
      "Wall time: 137 ms\n"
     ]
    }
   ],
   "source": [
    "%%time\n",
    "%run ~/Spring2019/ALOT/getLinesAccepted.py -i1 ~/Spring2019/H-MaTE/biocolls/aocr_entomology/ocropus/lines_txt_prob -i2 ~/Spring2019/H-MaTE/biocolls/aocr_entomology/tesseract/lines_txt_prob -i3 ~/Spring2019/H-MaTE/biocolls/aocr_entomology/google/lines_txt_prob -o ~/Spring2019/H-MaTE/biocolls/aocr_entomology/H-MaTE/accepted.tsv"
   ]
  },
  {
   "cell_type": "markdown",
   "metadata": {},
   "source": [
    "First 5 lines of the **accepted.tsv** file are shown. Spaces are not included in the output."
   ]
  },
  {
   "cell_type": "code",
   "execution_count": 91,
   "metadata": {},
   "outputs": [
    {
     "data": {
      "text/html": [
       "<div>\n",
       "<style scoped>\n",
       "    .dataframe tbody tr th:only-of-type {\n",
       "        vertical-align: middle;\n",
       "    }\n",
       "\n",
       "    .dataframe tbody tr th {\n",
       "        vertical-align: top;\n",
       "    }\n",
       "\n",
       "    .dataframe thead th {\n",
       "        text-align: right;\n",
       "    }\n",
       "</style>\n",
       "<table border=\"1\" class=\"dataframe\">\n",
       "  <thead>\n",
       "    <tr style=\"text-align: right;\">\n",
       "      <th></th>\n",
       "      <th>0</th>\n",
       "      <th>1</th>\n",
       "      <th>2</th>\n",
       "      <th>3</th>\n",
       "      <th>4</th>\n",
       "      <th>5</th>\n",
       "    </tr>\n",
       "  </thead>\n",
       "  <tbody>\n",
       "    <tr>\n",
       "      <th>0</th>\n",
       "      <td>EMEC609488_Cerceris_compacta_001.prob</td>\n",
       "      <td>12</td>\n",
       "      <td>0.953424</td>\n",
       "      <td>0.992526</td>\n",
       "      <td>0.993333</td>\n",
       "      <td>U.C.Berkeley</td>\n",
       "    </tr>\n",
       "    <tr>\n",
       "      <th>1</th>\n",
       "      <td>EMEC609488_Cerceris_compacta_003.prob</td>\n",
       "      <td>9</td>\n",
       "      <td>0.907099</td>\n",
       "      <td>0.990486</td>\n",
       "      <td>0.934444</td>\n",
       "      <td>10km.W.of</td>\n",
       "    </tr>\n",
       "    <tr>\n",
       "      <th>2</th>\n",
       "      <td>EMEC609488_Cerceris_compacta_004.prob</td>\n",
       "      <td>10</td>\n",
       "      <td>0.639588</td>\n",
       "      <td>0.989361</td>\n",
       "      <td>0.990000</td>\n",
       "      <td>Zitacuaro,</td>\n",
       "    </tr>\n",
       "    <tr>\n",
       "      <th>3</th>\n",
       "      <td>EMEC609488_Cerceris_compacta_008.prob</td>\n",
       "      <td>9</td>\n",
       "      <td>0.992537</td>\n",
       "      <td>0.995612</td>\n",
       "      <td>0.995556</td>\n",
       "      <td>Collector</td>\n",
       "    </tr>\n",
       "    <tr>\n",
       "      <th>4</th>\n",
       "      <td>EMEC609488_Cerceris_compacta_009.prob</td>\n",
       "      <td>8</td>\n",
       "      <td>0.587711</td>\n",
       "      <td>0.988849</td>\n",
       "      <td>0.992500</td>\n",
       "      <td>Cerceris</td>\n",
       "    </tr>\n",
       "  </tbody>\n",
       "</table>\n",
       "</div>"
      ],
      "text/plain": [
       "                                       0   1         2         3         4  \\\n",
       "0  EMEC609488_Cerceris_compacta_001.prob  12  0.953424  0.992526  0.993333   \n",
       "1  EMEC609488_Cerceris_compacta_003.prob   9  0.907099  0.990486  0.934444   \n",
       "2  EMEC609488_Cerceris_compacta_004.prob  10  0.639588  0.989361  0.990000   \n",
       "3  EMEC609488_Cerceris_compacta_008.prob   9  0.992537  0.995612  0.995556   \n",
       "4  EMEC609488_Cerceris_compacta_009.prob   8  0.587711  0.988849  0.992500   \n",
       "\n",
       "              5  \n",
       "0  U.C.Berkeley  \n",
       "1     10km.W.of  \n",
       "2    Zitacuaro,  \n",
       "3     Collector  \n",
       "4      Cerceris  "
      ]
     },
     "execution_count": 91,
     "metadata": {},
     "output_type": "execute_result"
    }
   ],
   "source": [
    "import pandas as pd\n",
    "df_accepted = pd.read_csv( RESULTS_DIR + \"accepted.tsv\", sep='\\t', header=None)\n",
    "df_accepted.head()"
   ]
  },
  {
   "cell_type": "code",
   "execution_count": 92,
   "metadata": {},
   "outputs": [
    {
     "name": "stdout",
     "output_type": "stream",
     "text": [
      "Number of accepted lines: 568 (50.18%)\n"
     ]
    }
   ],
   "source": [
    "n_a = len(df_accepted.index)\n",
    "print(\"Number of accepted lines: \" + str(n_a) + \" (\" + \"{0:.2f}\".format(100.0*(n_a/N_LINES)) + \"%)\")"
   ]
  },
  {
   "cell_type": "markdown",
   "metadata": {},
   "source": [
    "\n",
    "## 2. Perfect match lines: to be used on support structures\n",
    "These are lines where OCRopus, Tesseract, and G-OCR returned exactly the same value. In the comparison, I am not considering blank spaces. I still need to improve this because procedure because it is inserting invalid n-grams (**TO-DO**)\n",
    "\n",
    "The file **match3.tsv** is created."
   ]
  },
  {
   "cell_type": "code",
   "execution_count": 93,
   "metadata": {},
   "outputs": [
    {
     "name": "stdout",
     "output_type": "stream",
     "text": [
      "CPU times: user 72 ms, sys: 48 ms, total: 120 ms\n",
      "Wall time: 121 ms\n"
     ]
    }
   ],
   "source": [
    "%%time\n",
    "%run ~/Spring2019/ALOT/getLinesAccepted_Match3.py -i1 ~/Spring2019/H-MaTE/biocolls/aocr_entomology/ocropus/lines_txt_prob -i2 ~/Spring2019/H-MaTE/biocolls/aocr_entomology/tesseract/lines_txt_prob -i3 ~/Spring2019/H-MaTE/biocolls/aocr_entomology/google/lines_txt_prob -o ~/Spring2019/H-MaTE/biocolls/aocr_entomology/H-MaTE/match3.tsv"
   ]
  },
  {
   "cell_type": "code",
   "execution_count": 94,
   "metadata": {},
   "outputs": [
    {
     "data": {
      "text/html": [
       "<div>\n",
       "<style scoped>\n",
       "    .dataframe tbody tr th:only-of-type {\n",
       "        vertical-align: middle;\n",
       "    }\n",
       "\n",
       "    .dataframe tbody tr th {\n",
       "        vertical-align: top;\n",
       "    }\n",
       "\n",
       "    .dataframe thead th {\n",
       "        text-align: right;\n",
       "    }\n",
       "</style>\n",
       "<table border=\"1\" class=\"dataframe\">\n",
       "  <thead>\n",
       "    <tr style=\"text-align: right;\">\n",
       "      <th></th>\n",
       "      <th>0</th>\n",
       "      <th>1</th>\n",
       "      <th>2</th>\n",
       "      <th>3</th>\n",
       "      <th>4</th>\n",
       "      <th>5</th>\n",
       "    </tr>\n",
       "  </thead>\n",
       "  <tbody>\n",
       "    <tr>\n",
       "      <th>0</th>\n",
       "      <td>EMEC609488_Cerceris_compacta_001.prob</td>\n",
       "      <td>12</td>\n",
       "      <td>0.953424</td>\n",
       "      <td>0.992526</td>\n",
       "      <td>0.993333</td>\n",
       "      <td>U.C.Berkeley</td>\n",
       "    </tr>\n",
       "    <tr>\n",
       "      <th>1</th>\n",
       "      <td>EMEC609488_Cerceris_compacta_008.prob</td>\n",
       "      <td>9</td>\n",
       "      <td>0.992537</td>\n",
       "      <td>0.995612</td>\n",
       "      <td>0.995556</td>\n",
       "      <td>Collector</td>\n",
       "    </tr>\n",
       "    <tr>\n",
       "      <th>2</th>\n",
       "      <td>EMEC609488_Cerceris_compacta_012.prob</td>\n",
       "      <td>11</td>\n",
       "      <td>0.948402</td>\n",
       "      <td>0.989286</td>\n",
       "      <td>0.945455</td>\n",
       "      <td>H.A.Scullen</td>\n",
       "    </tr>\n",
       "    <tr>\n",
       "      <th>3</th>\n",
       "      <td>EMEC609504_Cerceris_compacta_006.prob</td>\n",
       "      <td>8</td>\n",
       "      <td>0.987015</td>\n",
       "      <td>0.992528</td>\n",
       "      <td>0.925000</td>\n",
       "      <td>P.D.Hurd</td>\n",
       "    </tr>\n",
       "    <tr>\n",
       "      <th>4</th>\n",
       "      <td>EMEC609515_Cerceris_compacta_009.prob</td>\n",
       "      <td>7</td>\n",
       "      <td>0.890164</td>\n",
       "      <td>0.982435</td>\n",
       "      <td>0.861429</td>\n",
       "      <td>7-17-32</td>\n",
       "    </tr>\n",
       "  </tbody>\n",
       "</table>\n",
       "</div>"
      ],
      "text/plain": [
       "                                       0   1         2         3         4  \\\n",
       "0  EMEC609488_Cerceris_compacta_001.prob  12  0.953424  0.992526  0.993333   \n",
       "1  EMEC609488_Cerceris_compacta_008.prob   9  0.992537  0.995612  0.995556   \n",
       "2  EMEC609488_Cerceris_compacta_012.prob  11  0.948402  0.989286  0.945455   \n",
       "3  EMEC609504_Cerceris_compacta_006.prob   8  0.987015  0.992528  0.925000   \n",
       "4  EMEC609515_Cerceris_compacta_009.prob   7  0.890164  0.982435  0.861429   \n",
       "\n",
       "              5  \n",
       "0  U.C.Berkeley  \n",
       "1     Collector  \n",
       "2   H.A.Scullen  \n",
       "3      P.D.Hurd  \n",
       "4       7-17-32  "
      ]
     },
     "execution_count": 94,
     "metadata": {},
     "output_type": "execute_result"
    }
   ],
   "source": [
    "df_match3 = pd.read_csv( RESULTS_DIR + \"match3.tsv\", sep='\\t', header=None)\n",
    "df_match3.head()"
   ]
  },
  {
   "cell_type": "code",
   "execution_count": 95,
   "metadata": {},
   "outputs": [
    {
     "data": {
      "image/jpeg": "[encoded data removed]",
      "text/plain": [
       "<IPython.core.display.Image object>"
      ]
     },
     "execution_count": 95,
     "metadata": {},
     "output_type": "execute_result"
    }
   ],
   "source": [
    "import os\n",
    "from IPython.display import Image\n",
    "Image(filename=\"/home/ialzuru/Spring2019/H-MaTE/biocolls/aocr_entomology/google/lines_img/EMEC609563_Cerceris_compacta_011.jpg\")"
   ]
  },
  {
   "cell_type": "code",
   "execution_count": 96,
   "metadata": {},
   "outputs": [
    {
     "name": "stdout",
     "output_type": "stream",
     "text": [
      "Number of match3 lines: 227 (20.05%)\n"
     ]
    }
   ],
   "source": [
    "n_m = len(df_match3.index)\n",
    "print(\"Number of match3 lines: \" + str(n_m) + \" (\" + \"{0:.2f}\".format(100.0*(n_m/N_LINES)) + \"%)\")"
   ]
  },
  {
   "cell_type": "markdown",
   "metadata": {},
   "source": [
    "\n",
    "## 3. Rejected lines.\n",
    "These lines are not going to be considered for further processing or improvement (but they will be part of the final extracted data). Files (lines) are rejected if:\n",
    "- None of the OCRs generated any output, or\n",
    "- Only one of the OCRs generated some output and this output has less than 4 characters or its average confidence is less than 0.7\n",
    "\n",
    "The file **rejected3.tsv** is created."
   ]
  },
  {
   "cell_type": "code",
   "execution_count": 97,
   "metadata": {},
   "outputs": [
    {
     "name": "stdout",
     "output_type": "stream",
     "text": [
      "CPU times: user 12 ms, sys: 4 ms, total: 16 ms\n",
      "Wall time: 16.1 ms\n"
     ]
    }
   ],
   "source": [
    "%%time\n",
    "%run ../ALOT/getLinesRejected.py -i0 ~/Spring2019/H-MaTE/biocolls/aocr_entomology/google/lines_img -i1 ~/Spring2019/H-MaTE/biocolls/aocr_entomology/ocropus/lines_txt_prob -i2 ~/Spring2019/H-MaTE/biocolls/aocr_entomology/tesseract/lines_txt_prob -i3 ~/Spring2019/H-MaTE/biocolls/aocr_entomology/google/lines_txt_prob -o ~/Spring2019/H-MaTE/biocolls/aocr_entomology/H-MaTE/rejected.tsv"
   ]
  },
  {
   "cell_type": "code",
   "execution_count": 98,
   "metadata": {},
   "outputs": [
    {
     "data": {
      "text/html": [
       "<div>\n",
       "<style scoped>\n",
       "    .dataframe tbody tr th:only-of-type {\n",
       "        vertical-align: middle;\n",
       "    }\n",
       "\n",
       "    .dataframe tbody tr th {\n",
       "        vertical-align: top;\n",
       "    }\n",
       "\n",
       "    .dataframe thead th {\n",
       "        text-align: right;\n",
       "    }\n",
       "</style>\n",
       "<table border=\"1\" class=\"dataframe\">\n",
       "  <thead>\n",
       "    <tr style=\"text-align: right;\">\n",
       "      <th></th>\n",
       "    </tr>\n",
       "  </thead>\n",
       "  <tbody>\n",
       "  </tbody>\n",
       "</table>\n",
       "</div>"
      ],
      "text/plain": [
       "Empty DataFrame\n",
       "Columns: []\n",
       "Index: []"
      ]
     },
     "execution_count": 98,
     "metadata": {},
     "output_type": "execute_result"
    }
   ],
   "source": [
    "df_rejected = None\n",
    "try:\n",
    "    df_rejected = pd.read_csv( RESULTS_DIR + \"rejected.tsv\", sep='\\t', header=None)\n",
    "except pd.io.common.EmptyDataError:\n",
    "    df_rejected = pd.DataFrame()\n",
    "df_rejected.tail()"
   ]
  },
  {
   "cell_type": "code",
   "execution_count": 99,
   "metadata": {},
   "outputs": [
    {
     "name": "stdout",
     "output_type": "stream",
     "text": [
      "Number of rejected lines: 0 (0.00%)\n"
     ]
    }
   ],
   "source": [
    "n_r = len(df_rejected.index)\n",
    "print(\"Number of rejected lines: \" + str(n_r) + \" (\" + \"{0:.2f}\".format(100.0*(n_r/N_LINES)) + \"%)\")"
   ]
  },
  {
   "cell_type": "markdown",
   "metadata": {},
   "source": [
    "## 4. Data distribution in directories: imgs_match3, gr_lines, gr_lines_ocropus, gr_lines_tesseract, gr_lines_google, and match3_lines\n",
    "Duplicate the original folder of lines:<br>\n",
    "<font color=blue>\n",
    "cp -r ~/Spring2019/H-MaTE/biocolls/aocr_entomology/google/lines_img ~/Spring2019/H-MaTE/biocolls/aocr_entomology/H-MaTE/lines_img\n",
    "</font><br>\n",
    "<br>\n",
    "Move the accepted files to a separated directory:\n",
    "<br>\n",
    "<font color=blue>python3 ~/Spring2019/ALOT/**move_files.py** -tsv ~/Spring2019/H-MaTE/biocolls/aocr_entomology/H-MaTE/accepted.tsv -i ~/Spring2019/H-MaTE/biocolls/aocr_entomology/H-MaTE/lines_img -o ~/Spring2019/H-MaTE/biocolls/aocr_entomology/H-MaTE/imgs_accepted</font>\n",
    "<br>\n",
    "We have **564** lines remaining.\n",
    "<br>\n",
    "<br>\n",
    "The text extraction support structures will be created from the match3 images:\n",
    "<br>\n",
    "<font color=blue>python3 ~/Spring2019/ALOT/**move_files.py** -tsv ~/Spring2019/H-MaTE/biocolls/aocr_entomology/H-MaTE/match3.tsv -i ~/Spring2019/H-MaTE/biocolls/aocr_entomology/H-MaTE/imgs_accepted -o ~/Spring2019/H-MaTE/biocolls/aocr_entomology/H-MaTE/imgs_match3</font>\n",
    "<br>\n",
    "<font color=blue>cp ~/Spring2019/H-MaTE/biocolls/aocr_entomology/H-MaTE/imgs_match3/\\*.jpg ~/Spring2019/H-MaTE/biocolls/aocr_entomology/H-MaTE/imgs_accepted/</font>\n",
    "<br><br>\n",
    "The lines yet to be corrected, from each OCR, are moved to specific directories:<br>\n",
    "<font color=blue>python3 ~/Spring2019/ALOT/**copy_OCR-ed_files.py** -r ~/Spring2019/H-MaTE/biocolls/aocr_entomology/H-MaTE/lines_img -i ~/Spring2019/H-MaTE/biocolls/aocr_entomology/ocropus/lines_txt_prob -o ~/Spring2019/H-MaTE/biocolls/aocr_entomology/H-MaTE/txt_prob_ocropus</font><br>\n",
    "<font color=blue>python3 ~/Spring2019/ALOT/**copy_OCR-ed_files.py** -r ~/Spring2019/H-MaTE/biocolls/aocr_entomology/H-MaTE/lines_img -i ~/Spring2019/H-MaTE/biocolls/aocr_entomology/tesseract/lines_txt_prob -o ~/Spring2019/H-MaTE/biocolls/aocr_entomology/H-MaTE/txt_prob_tesseract</font><br>\n",
    "<font color=blue>python3 ~/Spring2019/ALOT/**copy_OCR-ed_files.py** -r ~/Spring2019/H-MaTE/biocolls/aocr_entomology/H-MaTE/lines_img -i ~/Spring2019/H-MaTE/biocolls/aocr_entomology/google/lines_txt_prob -o ~/Spring2019/H-MaTE/biocolls/aocr_entomology/H-MaTE/txt_prob_google</font><br>\n",
    "<br>\n",
    "<font color=blue>python3 ~/Spring2019/ALOT/**copy_OCR-ed_files.py** -r ~/Spring2019/H-MaTE/biocolls/aocr_entomology/H-MaTE/imgs_match3 -i ~/Spring2019/H-MaTE/biocolls/aocr_entomology/google/lines_txt_prob -o ~/Spring2019/H-MaTE/biocolls/aocr_entomology/H-MaTE/txt_prob_match3</font><br>\n",
    "<br>\n",
    "Directory **lines_img** will contain the images (.jpg) that still need to be processed. **564** files.<br>\n",
    "Directory **txt_prob_ocropus** will contain the .txt and .prob output files of OCRopus for the gr_lines. **1,128** files(**564**).<br>\n",
    "Directory **txt_prob_tesseract** will contain the .txt and .prob output files of Tesseract for the gr_lines. **808** files(**404**).<br>\n",
    "Directory **txt_prob_google** will contain the .txt and .prob output files of G-OCR for the gr_lines. **1,128** files(**564**).<br>\n",
    "<br>\n",
    "Directory **imgs_match3** will contain the images (.jpg) with perfect match. **227** files.<br>\n",
    "Directory **txt_prob_match3** will contain the .txt and .prob output files of Tesseract for match3 lines. **454** files(**227**).<br>"
   ]
  },
  {
   "cell_type": "markdown",
   "metadata": {},
   "source": [
    "## 5. Fix (make consistent) the text and probability files"
   ]
  },
  {
   "cell_type": "markdown",
   "metadata": {},
   "source": [
    "<font color=blue>time python3 ~/Spring2019/ALOT/**fix_prob_txt_dir.py** -sd ~/Spring2019/H-MaTE/biocolls/aocr_entomology/H-MaTE/txt_prob_ocropus -dd ~/Spring2019/H-MaTE/biocolls/aocr_entomology/H-MaTE/txt_prob_ocropus_fixed > ~/Spring2019/H-MaTE/biocolls/aocr_entomology/H-MaTE/report_ocropus_fixed.txt</font><br>\n",
    "real\t0m0.384s<br>\n",
    "Total processed files: 559<br>\n",
    "<br>\n",
    "<font color=blue>time python3 ~/Spring2019/ALOT/**fix_prob_txt_dir.py** -sd ~/Spring2019/H-MaTE/biocolls/aocr_entomology/H-MaTE/txt_prob_tesseract -dd ~/Spring2019/H-MaTE/biocolls/aocr_entomology/H-MaTE/txt_prob_tesseract_fixed > ~/Spring2019/H-MaTE/biocolls/aocr_entomology/H-MaTE/report_tesseract_fixed.txt</font><br>\n",
    "real\t0m0.446s<br>\n",
    "Total processed files: 390<br>\n",
    "<br>\n",
    "<font color=blue>time python3 ~/Spring2019/ALOT/**fix_prob_txt_dir.py** -sd ~/Spring2019/H-MaTE/biocolls/aocr_entomology/H-MaTE/txt_prob_google -dd ~/Spring2019/H-MaTE/biocolls/aocr_entomology/H-MaTE/txt_prob_google_fixed > ~/Spring2019/H-MaTE/biocolls/aocr_entomology/H-MaTE/report_google_fixed.txt</font><br>\n",
    "real\t0m0.398s<br>\n",
    "Total processed files: 564<br>\n",
    "<br>\n",
    "<font color=blue>time python3 ~/Spring2019/ALOT/**fix_prob_txt_dir.py** -sd ~/Spring2019/H-MaTE/biocolls/aocr_entomology/H-MaTE/txt_prob_match3 -dd ~/Spring2019/H-MaTE/biocolls/aocr_entomology/H-MaTE/txt_prob_match3_fixed > ~/Spring2019/H-MaTE/biocolls/aocr_entomology/H-MaTE/report_match3_fixed.txt</font><br>\n",
    "real\t0m0.334s<br>\n",
    "Total processed files: 227<br>"
   ]
  },
  {
   "cell_type": "markdown",
   "metadata": {},
   "source": [
    "## 6. Construction of the n-grams (1-grams, 2-grams) files"
   ]
  },
  {
   "cell_type": "code",
   "execution_count": 100,
   "metadata": {},
   "outputs": [
    {
     "name": "stdout",
     "output_type": "stream",
     "text": [
      "CPU times: user 8 ms, sys: 4 ms, total: 12 ms\n",
      "Wall time: 11.2 ms\n"
     ]
    }
   ],
   "source": [
    "%%time\n",
    "%run ~/Spring2019/ALOT/get_n_grams.py -d ~/Spring2019/H-MaTE/biocolls/aocr_entomology/H-MaTE/txt_prob_match3_fixed -n 1 -o ~/Spring2019/H-MaTE/biocolls/aocr_entomology/H-MaTE/1_gram.tsv"
   ]
  },
  {
   "cell_type": "code",
   "execution_count": 101,
   "metadata": {},
   "outputs": [
    {
     "name": "stdout",
     "output_type": "stream",
     "text": [
      "CPU times: user 12 ms, sys: 0 ns, total: 12 ms\n",
      "Wall time: 10.9 ms\n"
     ]
    }
   ],
   "source": [
    "%%time\n",
    "%run ~/Spring2019/ALOT/get_n_grams.py -d ~/Spring2019/H-MaTE/biocolls/aocr_entomology/H-MaTE/txt_prob_match3_fixed -n 2 -o ~/Spring2019/H-MaTE/biocolls/aocr_entomology/H-MaTE/2_gram.tsv"
   ]
  },
  {
   "cell_type": "markdown",
   "metadata": {},
   "source": [
    "## 7. Construction of the descriptive stats files (per OCR)"
   ]
  },
  {
   "cell_type": "code",
   "execution_count": 102,
   "metadata": {},
   "outputs": [
    {
     "name": "stdout",
     "output_type": "stream",
     "text": [
      "CPU times: user 28 ms, sys: 52 ms, total: 80 ms\n",
      "Wall time: 83.7 ms\n"
     ]
    }
   ],
   "source": [
    "%%time\n",
    "%run ~/Spring2019/ALOT/copy_OCR-ed_files.py -r ~/Spring2019/H-MaTE/biocolls/aocr_entomology/H-MaTE/imgs_match3 -i ~/Spring2019/H-MaTE/biocolls/aocr_entomology/ocropus/lines_txt_prob -o ~/Spring2019/H-MaTE/biocolls/aocr_entomology/H-MaTE/matched3_ocropus\n",
    "%run ~/Spring2019/ALOT/copy_OCR-ed_files.py -r ~/Spring2019/H-MaTE/biocolls/aocr_entomology/H-MaTE/imgs_match3 -i ~/Spring2019/H-MaTE/biocolls/aocr_entomology/tesseract/lines_txt_prob -o ~/Spring2019/H-MaTE/biocolls/aocr_entomology/H-MaTE/matched3_tesseract\n",
    "%run ~/Spring2019/ALOT/copy_OCR-ed_files.py -r ~/Spring2019/H-MaTE/biocolls/aocr_entomology/H-MaTE/imgs_match3 -i ~/Spring2019/H-MaTE/biocolls/aocr_entomology/google/lines_txt_prob -o ~/Spring2019/H-MaTE/biocolls/aocr_entomology/H-MaTE/matched3_google"
   ]
  },
  {
   "cell_type": "markdown",
   "metadata": {},
   "source": [
    "This generated 3 new folders: **matched3_ocropus**, **matched3_tesseract**, and **matched3_google**, with 450 files each of them."
   ]
  },
  {
   "cell_type": "code",
   "execution_count": 103,
   "metadata": {},
   "outputs": [
    {
     "name": "stdout",
     "output_type": "stream",
     "text": [
      "CPU times: user 2.19 s, sys: 0 ns, total: 2.19 s\n",
      "Wall time: 2.19 s\n"
     ]
    }
   ],
   "source": [
    "%%time\n",
    "%run ~/Spring2019/ALOT/get_stats_from_probs.py -d ~/Spring2019/H-MaTE/biocolls/aocr_entomology/H-MaTE/matched3_ocropus -o ~/Spring2019/H-MaTE/biocolls/aocr_entomology/H-MaTE/ocropus_symbols_stats.txt\n",
    "%run ~/Spring2019/ALOT/get_stats_from_probs.py -d ~/Spring2019/H-MaTE/biocolls/aocr_entomology/H-MaTE/matched3_tesseract -o ~/Spring2019/H-MaTE/biocolls/aocr_entomology/H-MaTE/tesseract_symbols_stats.txt\n",
    "%run ~/Spring2019/ALOT/get_stats_from_probs.py -d ~/Spring2019/H-MaTE/biocolls/aocr_entomology/H-MaTE/matched3_google -o ~/Spring2019/H-MaTE/biocolls/aocr_entomology/H-MaTE/google_symbols_stats.txt"
   ]
  },
  {
   "cell_type": "markdown",
   "metadata": {},
   "source": [
    "The 3 files with the statistics for every symbol in every OCR are built: **ocropus_symbols_stats.txt**, **tesseract_symbols_stats.txt**, and **google_symbols_stats.txt**<br>\n",
    "They contain the symbol, mean, median, standard deviation, and number of repetitions for each symbol in the specified OCR."
   ]
  },
  {
   "cell_type": "code",
   "execution_count": 104,
   "metadata": {},
   "outputs": [
    {
     "data": {
      "text/html": [
       "<div>\n",
       "<style scoped>\n",
       "    .dataframe tbody tr th:only-of-type {\n",
       "        vertical-align: middle;\n",
       "    }\n",
       "\n",
       "    .dataframe tbody tr th {\n",
       "        vertical-align: top;\n",
       "    }\n",
       "\n",
       "    .dataframe thead th {\n",
       "        text-align: right;\n",
       "    }\n",
       "</style>\n",
       "<table border=\"1\" class=\"dataframe\">\n",
       "  <thead>\n",
       "    <tr style=\"text-align: right;\">\n",
       "      <th></th>\n",
       "      <th>0</th>\n",
       "      <th>1</th>\n",
       "      <th>2</th>\n",
       "      <th>3</th>\n",
       "      <th>4</th>\n",
       "    </tr>\n",
       "  </thead>\n",
       "  <tbody>\n",
       "    <tr>\n",
       "      <th>0</th>\n",
       "      <td>T</td>\n",
       "      <td>0.965654</td>\n",
       "      <td>0.997987</td>\n",
       "      <td>0.064890</td>\n",
       "      <td>8</td>\n",
       "    </tr>\n",
       "    <tr>\n",
       "      <th>1</th>\n",
       "      <td>i</td>\n",
       "      <td>0.983977</td>\n",
       "      <td>0.991416</td>\n",
       "      <td>0.041287</td>\n",
       "      <td>99</td>\n",
       "    </tr>\n",
       "    <tr>\n",
       "      <th>2</th>\n",
       "      <td>m</td>\n",
       "      <td>0.989314</td>\n",
       "      <td>0.988762</td>\n",
       "      <td>0.003813</td>\n",
       "      <td>35</td>\n",
       "    </tr>\n",
       "    <tr>\n",
       "      <th>3</th>\n",
       "      <td>b</td>\n",
       "      <td>0.986289</td>\n",
       "      <td>0.986751</td>\n",
       "      <td>0.005355</td>\n",
       "      <td>16</td>\n",
       "    </tr>\n",
       "    <tr>\n",
       "      <th>4</th>\n",
       "      <td>e</td>\n",
       "      <td>0.981544</td>\n",
       "      <td>0.986747</td>\n",
       "      <td>0.024711</td>\n",
       "      <td>341</td>\n",
       "    </tr>\n",
       "  </tbody>\n",
       "</table>\n",
       "</div>"
      ],
      "text/plain": [
       "   0         1         2         3    4\n",
       "0  T  0.965654  0.997987  0.064890    8\n",
       "1  i  0.983977  0.991416  0.041287   99\n",
       "2  m  0.989314  0.988762  0.003813   35\n",
       "3  b  0.986289  0.986751  0.005355   16\n",
       "4  e  0.981544  0.986747  0.024711  341"
      ]
     },
     "execution_count": 104,
     "metadata": {},
     "output_type": "execute_result"
    }
   ],
   "source": [
    "df_stats = pd.read_csv( RESULTS_DIR + \"ocropus_symbols_stats.txt\", sep='\\t', header=None)\n",
    "df_stats.head()"
   ]
  },
  {
   "cell_type": "markdown",
   "metadata": {},
   "source": [
    "## 8. Augment the confidence values using the n-grams\n",
    "+3 to the characters in 2-grams<br>\n",
    "+1 to the characters in 1-grams<br>\n",
    "<br>\n",
    "Adapt the addresses, internally, in the augmentation augment_prob_ngrams.py algorithm:<br>\n",
    "<font color=\"blue\">\n",
    "path_filename_2g = \"/home/ialzuru/Spring2019/H-MaTE/biocolls/aocr_entomology/H-MaTE/2_gram.tsv\"<br>\n",
    "path_filename_1g = \"/home/ialzuru/Spring2019/H-MaTE/biocolls/aocr_entomology/H-MaTE/1_gram.tsv\"\n",
    "</font>"
   ]
  },
  {
   "cell_type": "code",
   "execution_count": 1,
   "metadata": {},
   "outputs": [
    {
     "name": "stdout",
     "output_type": "stream",
     "text": [
      "Probability augmented in 54 files.\n",
      "CPU times: user 236 ms, sys: 36 ms, total: 272 ms\n",
      "Wall time: 404 ms\n"
     ]
    }
   ],
   "source": [
    "%%time\n",
    "%run ~/Spring2019/ALOT/augment_prob_ngrams.py -sd ~/Spring2019/H-MaTE/biocolls/aocr_entomology/H-MaTE/txt_prob_ocropus_fixed -dd ~/Spring2019/H-MaTE/biocolls/aocr_entomology/H-MaTE/ocropus_augmented"
   ]
  },
  {
   "cell_type": "code",
   "execution_count": 2,
   "metadata": {},
   "outputs": [
    {
     "name": "stdout",
     "output_type": "stream",
     "text": [
      "Probability augmented in 122 files.\n",
      "CPU times: user 64 ms, sys: 16 ms, total: 80 ms\n",
      "Wall time: 209 ms\n"
     ]
    }
   ],
   "source": [
    "%%time\n",
    "%run ~/Spring2019/ALOT/augment_prob_ngrams.py -sd ~/Spring2019/H-MaTE/biocolls/aocr_entomology/H-MaTE/txt_prob_tesseract_fixed -dd ~/Spring2019/H-MaTE/biocolls/aocr_entomology/H-MaTE/tesseract_augmented"
   ]
  },
  {
   "cell_type": "code",
   "execution_count": 3,
   "metadata": {},
   "outputs": [
    {
     "name": "stdout",
     "output_type": "stream",
     "text": [
      "Probability augmented in 177 files.\n",
      "CPU times: user 92 ms, sys: 28 ms, total: 120 ms\n",
      "Wall time: 278 ms\n"
     ]
    }
   ],
   "source": [
    "%%time\n",
    "%run ~/Spring2019/ALOT/augment_prob_ngrams.py -sd ~/Spring2019/H-MaTE/biocolls/aocr_entomology/H-MaTE/txt_prob_google_fixed -dd ~/Spring2019/H-MaTE/biocolls/aocr_entomology/H-MaTE/google_augmented"
   ]
  },
  {
   "cell_type": "markdown",
   "metadata": {},
   "source": [
    "The three just created directories: **ocropus_augmented**, **tesseract_augmented**, and **google_augmented**, will be the directories used during the lines correction process."
   ]
  },
  {
   "cell_type": "markdown",
   "metadata": {},
   "source": [
    "## 9. Correct lines -> Accept/Reject\n",
    "An **Accepted** line means we are confident that it is entirely correct.<br>\n",
    "**Reject** means: After correcting the line, we do not have a high confidence about part or all the extracted text.<br>\n",
    "<br>\n",
    "In the accept_from_ngrams.py file, update the addresses of the symbols' statistics files:<br>\n",
    "<font color=blue>\n",
    "fname_ocropus_stats = \"~/Spring2019/H-MaTE/biocolls/aocr_entomology/H-MaTE/ocropus_symbols_stats.txt\"\t\t# OCR 1<br>\n",
    "fname_tesseract_stats = \"~/Spring2019/H-MaTE/biocolls/aocr_entomology/H-MaTE/tesseract_symbols_stats.txt\"\t# OCR 2<br>\n",
    "fname_google_stats = \"~/Spring2019/H-MaTE/biocolls/aocr_entomology/H-MaTE/google_symbols_stats.txt\"\t\t\t# OCR 3<br>\n",
    "</font>"
   ]
  },
  {
   "cell_type": "markdown",
   "metadata": {},
   "source": [
    "<font color=blue>time python3 ~/Spring2019/ALOT/**accept_from_ngrams.py** -i1 ~/Spring2019/H-MaTE/biocolls/aocr_entomology/H-MaTE/ocropus_augmented -i2 ~/Spring2019/H-MaTE/biocolls/aocr_entomology/H-MaTE/tesseract_augmented -i3 ~/Spring2019/H-MaTE/biocolls/aocr_entomology/H-MaTE/google_augmented -da ~/Spring2019/H-MaTE/biocolls/aocr_entomology/H-MaTE/corrected_accepted -dr ~/Spring2019/H-MaTE/biocolls/aocr_entomology/H-MaTE/corrected_rejected</font>"
   ]
  },
  {
   "cell_type": "markdown",
   "metadata": {},
   "source": [
    "real\t0m2.361s"
   ]
  },
  {
   "cell_type": "markdown",
   "metadata": {},
   "source": [
    "Directories **corrected_accepted** and **corrected_rejected** were created.<br>\n",
    "Correct_accepted: 286 files, **143** lines (12.63%).<br>\n",
    "Correct_rejected: 832 files, **416** lines (36.75%).<br>"
   ]
  },
  {
   "cell_type": "markdown",
   "metadata": {},
   "source": [
    "## 10. Final organization of the lines, before generating the new labels.\n",
    "We put together in the directory **final_txt_prob** the accepted and corrected lines.<br>\n",
    "The accepted lines include the first group (accepted through majority voting) and the lines accepted after correction.<br>\n",
    "The lines rejected in the first process are not included, because no OCR generated any value or only one of them did."
   ]
  },
  {
   "cell_type": "code",
   "execution_count": 4,
   "metadata": {},
   "outputs": [
    {
     "name": "stdout",
     "output_type": "stream",
     "text": [
      "CPU times: user 84 ms, sys: 88 ms, total: 172 ms\n",
      "Wall time: 638 ms\n"
     ]
    }
   ],
   "source": [
    "%%time\n",
    "%run ~/Spring2019/ALOT/copy_OCR-ed_files.py -r ~/Spring2019/H-MaTE/biocolls/aocr_entomology/H-MaTE/imgs_accepted -i ~/Spring2019/H-MaTE/biocolls/aocr_entomology/google/lines_txt_prob -o ~/Spring2019/H-MaTE/biocolls/aocr_entomology/H-MaTE/final_txt_prob"
   ]
  },
  {
   "cell_type": "markdown",
   "metadata": {},
   "source": [
    "cp ./corrected_accepted/&ast; ./final_txt_prob/<br>\n",
    "cp ./corrected_rejected/&ast; ./final_txt_prob/<br>\n",
    "ls ./final_txt_prob/ | wc -l<br>\n",
    "2,254 files -> **1,127** lines<br>"
   ]
  },
  {
   "cell_type": "markdown",
   "metadata": {},
   "source": [
    "## 11. Construction of the labels (fulltext) from the extracted lines"
   ]
  },
  {
   "cell_type": "markdown",
   "metadata": {},
   "source": [
    "<font color=blue>time python3 ~/Spring2019/ALOT/**build_labels.py** -r ~/Spring2019/H-MaTE/biocolls/aocr_entomology/images -i ~/Spring2019/H-MaTE/biocolls/aocr_entomology/H-MaTE/final_txt_prob -o ~/Spring2019/H-MaTE/biocolls/aocr_entomology/H-MaTE/final_labels</font><br>\n",
    "real\t0m0.343s"
   ]
  },
  {
   "cell_type": "markdown",
   "metadata": {},
   "source": [
    "## 12. Similarity comparison to the Golden Truth data"
   ]
  },
  {
   "cell_type": "code",
   "execution_count": 5,
   "metadata": {},
   "outputs": [
    {
     "name": "stdout",
     "output_type": "stream",
     "text": [
      "CPU times: user 100 ms, sys: 0 ns, total: 100 ms\n",
      "Wall time: 102 ms\n"
     ]
    }
   ],
   "source": [
    "%%time\n",
    "%run ~/Spring2019/ALOT/fulltext_similarity_DL_dir.py -d1 ~/Spring2019/H-MaTE/biocolls/aocr_entomology/gt -d2 ~/Spring2019/H-MaTE/biocolls/aocr_entomology/H-MaTE/final_labels -o ~/Spring2019/H-MaTE/biocolls/aocr_entomology/H-MaTE/aocr_entomology_hmate_vs_gt.csv"
   ]
  },
  {
   "cell_type": "code",
   "execution_count": null,
   "metadata": {},
   "outputs": [],
   "source": []
  }
 ],
 "metadata": {
  "kernelspec": {
   "display_name": "Python 3",
   "language": "python",
   "name": "python3"
  },
  "language_info": {
   "codemirror_mode": {
    "name": "ipython",
    "version": 3
   },
   "file_extension": ".py",
   "mimetype": "text/x-python",
   "name": "python",
   "nbconvert_exporter": "python",
   "pygments_lexer": "ipython3",
   "version": "3.7.2"
  }
 },
 "nbformat": 4,
 "nbformat_minor": 2
}
